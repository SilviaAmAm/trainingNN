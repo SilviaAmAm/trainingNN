{
 "cells": [
  {
   "cell_type": "markdown",
   "metadata": {},
   "source": [
    "This notebook is used to make a dataset of various configurations where one can clearly see a methane and a cyanide radical, a HCN and a methyl radical and a transition state. This will then be used to work out which neurons are maximally activated by these different three structures."
   ]
  },
  {
   "cell_type": "code",
   "execution_count": 1,
   "metadata": {
    "collapsed": true
   },
   "outputs": [],
   "source": [
    "import sys\n",
    "sys.path.insert(0,'/Users/walfits/Repositories/YAMLP/SciFlow')\n",
    "import CoulombMatrix as cm\n",
    "import InvDist as invd\n",
    "import ImportData as imp\n",
    "import numpy as np"
   ]
  },
  {
   "cell_type": "code",
   "execution_count": null,
   "metadata": {
    "collapsed": true
   },
   "outputs": [],
   "source": [
    "# This generates the X and Y file from a single trajectory\n",
    "imp.XYZtoCSV(\"/Users/walfits/Desktop/ch4cn.xyz\")"
   ]
  },
  {
   "cell_type": "code",
   "execution_count": null,
   "metadata": {
    "collapsed": true
   },
   "outputs": [],
   "source": [
    "X = imp.loadX(\"X.csv\")"
   ]
  },
  {
   "cell_type": "code",
   "execution_count": null,
   "metadata": {
    "collapsed": false
   },
   "outputs": [],
   "source": [
    "coul = cm.CoulombMatrix(X)\n",
    "X_cm = coul.generateTrimmedCM()\n",
    "print X_cm.shape"
   ]
  },
  {
   "cell_type": "code",
   "execution_count": null,
   "metadata": {
    "collapsed": false
   },
   "outputs": [],
   "source": [
    "X_id = invd.InvDist(X)\n",
    "X_desc = X_id.trimmed_InvDis()"
   ]
  },
  {
   "cell_type": "code",
   "execution_count": null,
   "metadata": {
    "collapsed": false
   },
   "outputs": [],
   "source": [
    "# Config 69 is a CH4 + CN, 282 looks like a transition state, 1360 is CH3 + HCN\n",
    "import numpy as np\n",
    "struct_cm = np.zeros((3,28))\n",
    "struct_cm[0, :] = X_cm[69, :]\n",
    "struct_cm[1, :] = X_cm[282, :]\n",
    "struct_cm[2, :] = X_cm[1360, :]\n",
    "\n",
    "struct_id = np.zeros((3,21))\n",
    "struct_id[0, :] = X_desc[69, :]\n",
    "struct_id[1, :] = X_desc[282, :]\n",
    "struct_id[2, :] = X_desc[1360, :]"
   ]
  },
  {
   "cell_type": "code",
   "execution_count": null,
   "metadata": {
    "collapsed": false
   },
   "outputs": [],
   "source": [
    "import joblib\n",
    "new_dataset = {\"X_cm\":struct_cm, \"X_id\": struct_id}\n",
    "joblib.dump(new_dataset, filename=\"three_struct.bz\")"
   ]
  },
  {
   "cell_type": "markdown",
   "metadata": {
    "collapsed": true
   },
   "source": [
    "Now doing the same thing but for the entire trajectory. In this way, from the indices I can know what inverse matrix corresponds to the cartesian coordinates."
   ]
  },
  {
   "cell_type": "code",
   "execution_count": 7,
   "metadata": {
    "collapsed": false
   },
   "outputs": [],
   "source": [
    "# This generates the X and Y file from a single trajectory\n",
    "imp.XYZtoCSV(\"/Users/walfits/Google Drive/PhD/Reports/deep_visualisation/iteration3/converged.xyz\")"
   ]
  },
  {
   "cell_type": "code",
   "execution_count": 8,
   "metadata": {
    "collapsed": true
   },
   "outputs": [],
   "source": [
    "# Cartesian coordinates\n",
    "X = imp.loadX(\"X.csv\")\n",
    "Y = imp.loadY(\"Y.csv\")"
   ]
  },
  {
   "cell_type": "code",
   "execution_count": 9,
   "metadata": {
    "collapsed": false
   },
   "outputs": [
    {
     "name": "stdout",
     "output_type": "stream",
     "text": [
      "(17864, 1)\n"
     ]
    }
   ],
   "source": [
    "# Demeaning Y and converting to kJ/mol\n",
    "Y_kjmol = Y * 2625.50\n",
    "y_mean = np.mean(Y_kjmol)\n",
    "Y_demean = Y_kjmol - y_mean\n",
    "print(Y_demean.shape)"
   ]
  },
  {
   "cell_type": "code",
   "execution_count": 10,
   "metadata": {
    "collapsed": false
   },
   "outputs": [
    {
     "name": "stdout",
     "output_type": "stream",
     "text": [
      "Initialised the Coulomb matrix. \n",
      "\n",
      "(17864, 21)\n"
     ]
    }
   ],
   "source": [
    "# Descriptor\n",
    "X_id = invd.InvDist(X)\n",
    "X_desc = X_id.trimmed_InvDis()\n",
    "print(X_desc.shape)"
   ]
  },
  {
   "cell_type": "code",
   "execution_count": 11,
   "metadata": {
    "collapsed": false
   },
   "outputs": [
    {
     "data": {
      "text/plain": [
       "['cartesian_and_descriptor_y.bz']"
      ]
     },
     "execution_count": 11,
     "metadata": {},
     "output_type": "execute_result"
    }
   ],
   "source": [
    "import joblib\n",
    "new_dataset = {\"X_cartesian\":X, \"X_id\": X_desc, \"Y_demean\": Y_demean}\n",
    "joblib.dump(new_dataset, filename=\"cartesian_and_descriptor_y.bz\")"
   ]
  },
  {
   "cell_type": "code",
   "execution_count": null,
   "metadata": {
    "collapsed": true
   },
   "outputs": [],
   "source": []
  }
 ],
 "metadata": {
  "anaconda-cloud": {},
  "kernelspec": {
   "display_name": "Python [conda root]",
   "language": "python",
   "name": "conda-root-py"
  },
  "language_info": {
   "codemirror_mode": {
    "name": "ipython",
    "version": 2
   },
   "file_extension": ".py",
   "mimetype": "text/x-python",
   "name": "python",
   "nbconvert_exporter": "python",
   "pygments_lexer": "ipython2",
   "version": "2.7.12"
  }
 },
 "nbformat": 4,
 "nbformat_minor": 1
}
