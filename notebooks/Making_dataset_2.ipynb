{
 "cells": [
  {
   "cell_type": "code",
   "execution_count": 1,
   "metadata": {
    "collapsed": true
   },
   "outputs": [],
   "source": [
    "import sys\n",
    "sys.path.insert(0,'/Users/walfits/Repositories/YAMLP/SciFlow')\n",
    "import CoulombMatrix as cm\n",
    "import ImportData as imp\n",
    "import numpy as np"
   ]
  },
  {
   "cell_type": "code",
   "execution_count": 2,
   "metadata": {
    "collapsed": false
   },
   "outputs": [
    {
     "name": "stdout",
     "output_type": "stream",
     "text": [
      "(20698, 1)\n"
     ]
    }
   ],
   "source": [
    "X = imp.loadX(\"/Users/walfits/Repositories/trainingNN/dataSets/XYQ/X_cc.csv\")\n",
    "y = imp.loadY(\"/Users/walfits/Repositories/trainingNN/dataSets/XYQ/Y_cc.csv\")\n",
    "print y.shape"
   ]
  },
  {
   "cell_type": "code",
   "execution_count": 3,
   "metadata": {
    "collapsed": false
   },
   "outputs": [
    {
     "name": "stdout",
     "output_type": "stream",
     "text": [
      "Initialised the Coulomb matrix. \n",
      "\n",
      "(20698, 28)\n"
     ]
    }
   ],
   "source": [
    "CM = cm.CoulombMatrix(X)\n",
    "X_cm = CM.generateTrimmedCM()\n",
    "print X_cm.shape"
   ]
  },
  {
   "cell_type": "code",
   "execution_count": 4,
   "metadata": {
    "collapsed": false
   },
   "outputs": [
    {
     "name": "stdout",
     "output_type": "stream",
     "text": [
      "-347703.585879\n"
     ]
    }
   ],
   "source": [
    "y_kJmol = y * 2625.50\n",
    "y_demeaned = y_kJmol - np.mean(y_kJmol)\n",
    "print np.mean(y_kJmol)"
   ]
  },
  {
   "cell_type": "code",
   "execution_count": 5,
   "metadata": {
    "collapsed": true
   },
   "outputs": [],
   "source": [
    "# new_dataset = {\"X\":X_cm, \"y\":y}\n",
    "# joblib.dump(new_dataset, filename=\"data_10000.bz\")"
   ]
  }
 ],
 "metadata": {
  "anaconda-cloud": {},
  "kernelspec": {
   "display_name": "Python [default]",
   "language": "python",
   "name": "python2"
  },
  "language_info": {
   "codemirror_mode": {
    "name": "ipython",
    "version": 2
   },
   "file_extension": ".py",
   "mimetype": "text/x-python",
   "name": "python",
   "nbconvert_exporter": "python",
   "pygments_lexer": "ipython2",
   "version": "2.7.12"
  }
 },
 "nbformat": 4,
 "nbformat_minor": 1
}
