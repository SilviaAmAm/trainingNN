{
 "cells": [
  {
   "cell_type": "code",
   "execution_count": 1,
   "metadata": {
    "collapsed": false
   },
   "outputs": [],
   "source": [
    "import ImportData\n",
    "# Importing the data set\n",
    "X, y, Q = ImportData.loadPd_q(\"/Users/walfits/Repositories/trainingNN/dataSets/PBE_B3LYP/pbe_b3lyp_partQ_rel.csv\")"
   ]
  },
  {
   "cell_type": "code",
   "execution_count": 2,
   "metadata": {
    "collapsed": false
   },
   "outputs": [],
   "source": [
    "import CoulombMatrix\n",
    "import PartialCharge\n",
    "# CM = CoulombMatrix.CoulombMatrix(matrixX=X)\n",
    "# Xc = CM.getCM()\n",
    "\n",
    "# Creating the Coulomb matrix - it has 49 features and 17751 samples\n",
    "PCCM = PartialCharge.PartialCharges(X, y, Q)\n",
    "Xc = PCCM.get_pccm()"
   ]
  },
  {
   "cell_type": "code",
   "execution_count": 3,
   "metadata": {
    "collapsed": false
   },
   "outputs": [],
   "source": [
    "import pandas as pd\n",
    "xdf = pd.DataFrame(Xc)"
   ]
  },
  {
   "cell_type": "code",
   "execution_count": 5,
   "metadata": {
    "collapsed": false
   },
   "outputs": [
    {
     "data": {
      "text/html": [
       "<div>\n",
       "<style>\n",
       "    .dataframe thead tr:only-child th {\n",
       "        text-align: right;\n",
       "    }\n",
       "\n",
       "    .dataframe thead th {\n",
       "        text-align: left;\n",
       "    }\n",
       "\n",
       "    .dataframe tbody tr th {\n",
       "        vertical-align: top;\n",
       "    }\n",
       "</style>\n",
       "<table border=\"1\" class=\"dataframe\">\n",
       "  <thead>\n",
       "    <tr style=\"text-align: right;\">\n",
       "      <th></th>\n",
       "      <th>0</th>\n",
       "      <th>1</th>\n",
       "      <th>2</th>\n",
       "      <th>3</th>\n",
       "      <th>4</th>\n",
       "      <th>5</th>\n",
       "      <th>6</th>\n",
       "      <th>7</th>\n",
       "      <th>8</th>\n",
       "      <th>9</th>\n",
       "      <th>...</th>\n",
       "      <th>39</th>\n",
       "      <th>40</th>\n",
       "      <th>41</th>\n",
       "      <th>42</th>\n",
       "      <th>43</th>\n",
       "      <th>44</th>\n",
       "      <th>45</th>\n",
       "      <th>46</th>\n",
       "      <th>47</th>\n",
       "      <th>48</th>\n",
       "    </tr>\n",
       "  </thead>\n",
       "  <tbody>\n",
       "    <tr>\n",
       "      <th>0</th>\n",
       "      <td>1.134641</td>\n",
       "      <td>0.411366</td>\n",
       "      <td>1.015461</td>\n",
       "      <td>0.497982</td>\n",
       "      <td>0.426106</td>\n",
       "      <td>-4.293000</td>\n",
       "      <td>-2.571147</td>\n",
       "      <td>0.411366</td>\n",
       "      <td>0.025852</td>\n",
       "      <td>0.068016</td>\n",
       "      <td>...</td>\n",
       "      <td>-0.657926</td>\n",
       "      <td>0.903939</td>\n",
       "      <td>1.308373</td>\n",
       "      <td>-2.571147</td>\n",
       "      <td>-0.187605</td>\n",
       "      <td>-0.862509</td>\n",
       "      <td>-0.115417</td>\n",
       "      <td>-0.434969</td>\n",
       "      <td>1.308373</td>\n",
       "      <td>-3.217944</td>\n",
       "    </tr>\n",
       "    <tr>\n",
       "      <th>1</th>\n",
       "      <td>0.979050</td>\n",
       "      <td>0.361474</td>\n",
       "      <td>1.086287</td>\n",
       "      <td>0.365335</td>\n",
       "      <td>0.328684</td>\n",
       "      <td>-4.326532</td>\n",
       "      <td>-2.625485</td>\n",
       "      <td>0.361474</td>\n",
       "      <td>0.029643</td>\n",
       "      <td>0.064336</td>\n",
       "      <td>...</td>\n",
       "      <td>-0.660451</td>\n",
       "      <td>0.912481</td>\n",
       "      <td>1.330396</td>\n",
       "      <td>-2.625485</td>\n",
       "      <td>-0.158260</td>\n",
       "      <td>-0.861058</td>\n",
       "      <td>-0.075271</td>\n",
       "      <td>-0.438984</td>\n",
       "      <td>1.330396</td>\n",
       "      <td>-3.225163</td>\n",
       "    </tr>\n",
       "    <tr>\n",
       "      <th>2</th>\n",
       "      <td>1.066895</td>\n",
       "      <td>0.397594</td>\n",
       "      <td>1.135181</td>\n",
       "      <td>0.318984</td>\n",
       "      <td>0.318162</td>\n",
       "      <td>-5.446554</td>\n",
       "      <td>-4.437856</td>\n",
       "      <td>0.397594</td>\n",
       "      <td>0.033947</td>\n",
       "      <td>0.083204</td>\n",
       "      <td>...</td>\n",
       "      <td>-0.736757</td>\n",
       "      <td>0.723305</td>\n",
       "      <td>0.668696</td>\n",
       "      <td>-4.437856</td>\n",
       "      <td>-0.388824</td>\n",
       "      <td>-0.976901</td>\n",
       "      <td>-0.706180</td>\n",
       "      <td>-0.529629</td>\n",
       "      <td>0.668696</td>\n",
       "      <td>-3.019126</td>\n",
       "    </tr>\n",
       "    <tr>\n",
       "      <th>3</th>\n",
       "      <td>-0.047132</td>\n",
       "      <td>0.127028</td>\n",
       "      <td>0.844038</td>\n",
       "      <td>0.269993</td>\n",
       "      <td>-3.383731</td>\n",
       "      <td>-5.188154</td>\n",
       "      <td>-4.664227</td>\n",
       "      <td>0.127028</td>\n",
       "      <td>-0.001618</td>\n",
       "      <td>0.020747</td>\n",
       "      <td>...</td>\n",
       "      <td>3.096462</td>\n",
       "      <td>-0.888992</td>\n",
       "      <td>1.617180</td>\n",
       "      <td>-4.664227</td>\n",
       "      <td>-0.561519</td>\n",
       "      <td>-0.800356</td>\n",
       "      <td>-0.755056</td>\n",
       "      <td>1.104039</td>\n",
       "      <td>1.617180</td>\n",
       "      <td>1.237417</td>\n",
       "    </tr>\n",
       "    <tr>\n",
       "      <th>4</th>\n",
       "      <td>-0.007953</td>\n",
       "      <td>0.133228</td>\n",
       "      <td>0.766455</td>\n",
       "      <td>0.352967</td>\n",
       "      <td>-3.384837</td>\n",
       "      <td>-5.217230</td>\n",
       "      <td>-4.671678</td>\n",
       "      <td>0.133228</td>\n",
       "      <td>-0.004924</td>\n",
       "      <td>0.008019</td>\n",
       "      <td>...</td>\n",
       "      <td>2.983941</td>\n",
       "      <td>-0.910984</td>\n",
       "      <td>1.805061</td>\n",
       "      <td>-4.671678</td>\n",
       "      <td>-0.578261</td>\n",
       "      <td>-0.816070</td>\n",
       "      <td>-0.752945</td>\n",
       "      <td>1.080359</td>\n",
       "      <td>1.805061</td>\n",
       "      <td>1.283205</td>\n",
       "    </tr>\n",
       "  </tbody>\n",
       "</table>\n",
       "<p>5 rows × 49 columns</p>\n",
       "</div>"
      ],
      "text/plain": [
       "         0         1         2         3         4         5         6   \\\n",
       "0  1.134641  0.411366  1.015461  0.497982  0.426106 -4.293000 -2.571147   \n",
       "1  0.979050  0.361474  1.086287  0.365335  0.328684 -4.326532 -2.625485   \n",
       "2  1.066895  0.397594  1.135181  0.318984  0.318162 -5.446554 -4.437856   \n",
       "3 -0.047132  0.127028  0.844038  0.269993 -3.383731 -5.188154 -4.664227   \n",
       "4 -0.007953  0.133228  0.766455  0.352967 -3.384837 -5.217230 -4.671678   \n",
       "\n",
       "         7         8         9     ...           39        40        41  \\\n",
       "0  0.411366  0.025852  0.068016    ...    -0.657926  0.903939  1.308373   \n",
       "1  0.361474  0.029643  0.064336    ...    -0.660451  0.912481  1.330396   \n",
       "2  0.397594  0.033947  0.083204    ...    -0.736757  0.723305  0.668696   \n",
       "3  0.127028 -0.001618  0.020747    ...     3.096462 -0.888992  1.617180   \n",
       "4  0.133228 -0.004924  0.008019    ...     2.983941 -0.910984  1.805061   \n",
       "\n",
       "         42        43        44        45        46        47        48  \n",
       "0 -2.571147 -0.187605 -0.862509 -0.115417 -0.434969  1.308373 -3.217944  \n",
       "1 -2.625485 -0.158260 -0.861058 -0.075271 -0.438984  1.330396 -3.225163  \n",
       "2 -4.437856 -0.388824 -0.976901 -0.706180 -0.529629  0.668696 -3.019126  \n",
       "3 -4.664227 -0.561519 -0.800356 -0.755056  1.104039  1.617180  1.237417  \n",
       "4 -4.671678 -0.578261 -0.816070 -0.752945  1.080359  1.805061  1.283205  \n",
       "\n",
       "[5 rows x 49 columns]"
      ]
     },
     "execution_count": 5,
     "metadata": {},
     "output_type": "execute_result"
    }
   ],
   "source": [
    "# Demeaning the dataset\n",
    "xdf_demeaned = xdf - xdf_mean\n",
    "xdf_demeaned.head()"
   ]
  },
  {
   "cell_type": "code",
   "execution_count": 6,
   "metadata": {
    "collapsed": false
   },
   "outputs": [
    {
     "name": "stdout",
     "output_type": "stream",
     "text": [
      "(49, 49)\n"
     ]
    }
   ],
   "source": [
    "# Calculating the covariance matrix\n",
    "xdf_cov = xdf_demeaned.cov()\n",
    "print xdf_cov.shape"
   ]
  },
  {
   "cell_type": "code",
   "execution_count": 7,
   "metadata": {
    "collapsed": true
   },
   "outputs": [],
   "source": [
    "import numpy as np\n",
    "# Calculating the eigen values and eigenvectors of the covariance matrix\n",
    "eig_vals, eig_vecs = np.linalg.eig(xdf_cov)"
   ]
  },
  {
   "cell_type": "code",
   "execution_count": 8,
   "metadata": {
    "collapsed": false
   },
   "outputs": [],
   "source": [
    "# Making a list of (eigenvalue, eigenvector) tuples\n",
    "eig_pairs = [(np.abs(eig_vals[i]), eig_vecs[:,i]) for i in range(len(eig_vals))]\n",
    "\n",
    "# Sorting the (eigenvalue, eigenvector) tuples from high to low\n",
    "eig_pairs.sort(key=lambda x: x[0], reverse=True)"
   ]
  },
  {
   "cell_type": "code",
   "execution_count": 17,
   "metadata": {
    "collapsed": false
   },
   "outputs": [
    {
     "data": {
      "image/png": "[encoded data removed]",
      "text/plain": [
       "<matplotlib.figure.Figure at 0x11716c7d0>"
      ]
     },
     "metadata": {},
     "output_type": "display_data"
    },
    {
     "name": "stdout",
     "output_type": "stream",
     "text": [
      "[90.450576927702926, 14.215687951670292, 6.664376714424173, 5.0145327755019897, 4.1199504160261098, 3.0753569697952647, 2.3668664670994883, 1.723572942678222, 0.72268380396201048, 0.2310986770647836, 0.21498695989029609, 0.16998801339510741, 0.14120990894627761, 0.12898440386675261, 0.091234013241372133, 0.061696066685600376, 0.044304745355746473, 0.03220875028231656, 0.0017642962641719268, 0.0016643195962887018, 0.0014562758120451377, 0.0011138926302652044, 0.00098447547714030216, 0.00090237946505587762, 0.000578541200746825, 0.00042340803830694172, 0.00038119221757228655, 1.1429527308869997e-05, 7.1445424718272038e-27, 2.9537444234980921e-28, 1.8146919970146344e-29, 6.9209927104135452e-30, 5.4281273119020864e-30, 5.4281273119020864e-30, 2.442446442009512e-30, 2.442446442009512e-30, 1.765919450116844e-30, 1.3012199477463451e-30, 1.3012199477463451e-30, 7.9916027344244615e-31, 4.9048052256437301e-31, 4.5534205523376327e-31, 3.9580181515196255e-31, 3.9580181515196255e-31, 5.4021243246752248e-32, 4.4092103789067996e-32, 1.5560395619447308e-44, 2.3787751784944492e-47, 2.3787751784944492e-47]\n"
     ]
    }
   ],
   "source": [
    "# Plotting the eigenvalues\n",
    "import matplotlib.pyplot as plt\n",
    "import seaborn as sns\n",
    "y = []\n",
    "for k in range(len(eig_pairs)):\n",
    "    y.append(eig_pairs[k][0]) \n",
    "x = range(len(eig_pairs))\n",
    "\n",
    "df = pd.DataFrame()\n",
    "df['Eigenvalues'] = y\n",
    "df['Components'] = x\n",
    "\n",
    "fig, ax = plt.subplots(figsize=(13, 8.27))\n",
    "sns.barplot(x=\"Components\", y=\"Eigenvalues\", data=df, ax=ax)\n",
    "ax.set_ylabel('Eigenvalue')\n",
    "ax.set_xlabel('Component')\n",
    "# plt.savefig(\"PCA_prpccm.png\", dpi=500)  # save as png\n",
    "plt.show()\n",
    "print y"
   ]
  },
  {
   "cell_type": "code",
   "execution_count": 73,
   "metadata": {
    "collapsed": false
   },
   "outputs": [
    {
     "name": "stdout",
     "output_type": "stream",
     "text": [
      "[[  6.20234947e-02   2.52131270e-02   4.48032292e-02 ...,  -3.51334840e-02\n",
      "    1.15500254e-01  -1.41722048e-01]\n",
      " [ -9.31058561e-02  -5.13067504e-02   8.66728848e-02 ...,   2.10319395e-04\n",
      "   -5.14245527e-01  -1.87364140e-01]\n",
      " [ -9.04918744e-02   2.85384896e-02  -4.31065038e-01 ...,  -2.77542905e-02\n",
      "   -1.04578060e-01   2.75900900e-01]\n",
      " ..., \n",
      " [ -1.01213333e-15   1.56806745e-03   4.34556794e-02 ...,   7.83432491e-03\n",
      "   -4.45677893e-04  -7.90899774e-16]\n",
      " [  1.92723609e-16  -1.75394234e-03  -1.03056056e-02 ...,  -8.36603323e-03\n",
      "   -7.65682085e-03   1.43102018e-16]\n",
      " [  1.92723609e-16  -1.75394234e-03  -1.03056056e-02 ...,  -8.36603323e-03\n",
      "   -7.65682085e-03   1.43102018e-16]]\n"
     ]
    }
   ],
   "source": [
    "print eig_vecs.real.T"
   ]
  },
  {
   "cell_type": "code",
   "execution_count": 62,
   "metadata": {
    "collapsed": false
   },
   "outputs": [
    {
     "data": {
      "text/plain": [
       "array([[ -6.20234947e-02,  -2.52131270e-02,  -4.48032292e-02, ...,\n",
       "          3.51334840e-02,  -1.15500254e-01,   1.41722048e-01],\n",
       "       [ -9.31058561e-02,  -5.13067504e-02,   8.66728848e-02, ...,\n",
       "          2.10319395e-04,  -5.14245527e-01,  -1.87364140e-01],\n",
       "       [ -9.04918744e-02,   2.85384896e-02,  -4.31065038e-01, ...,\n",
       "         -2.77542905e-02,  -1.04578060e-01,   2.75900900e-01],\n",
       "       ..., \n",
       "       [ -0.00000000e+00,  -4.12530194e-02,   7.27558743e-02, ...,\n",
       "         -2.62887909e-02,   7.35354435e-02,  -6.24500451e-17],\n",
       "       [ -0.00000000e+00,  -3.07237524e-02,  -8.18279019e-03, ...,\n",
       "         -1.21458543e-03,   4.24441605e-03,   7.63278329e-17],\n",
       "       [  0.00000000e+00,   3.52347644e-01,   2.75665360e-01, ...,\n",
       "          1.28452566e-01,   3.69164786e-02,  -3.88578059e-16]])"
      ]
     },
     "execution_count": 62,
     "metadata": {},
     "output_type": "execute_result"
    }
   ],
   "source": [
    "# Comparing the eigenvectors of the covariance matrix to the PCA components from Sklearn\n",
    "from sklearn.decomposition import PCA\n",
    "pca = PCA(n_components=49)\n",
    "pca.fit(xdf_demeaned)\n",
    "pca.components_  # These are the eigenvectors of the covariance matrix. They are on the ROWS."
   ]
  },
  {
   "cell_type": "code",
   "execution_count": 79,
   "metadata": {
    "collapsed": false
   },
   "outputs": [
    {
     "name": "stdout",
     "output_type": "stream",
     "text": [
      "[[  8.20950579e+00   7.04501083e-01  -2.02228634e+00 ...,  -2.98712434e-15\n",
      "    6.31983690e-16   5.34619229e-16]\n",
      " [  8.27394646e+00   7.23873485e-01  -2.09344774e+00 ...,  -2.21419558e-15\n",
      "    3.07888772e-16   3.26793780e-16]\n",
      " [  1.08954959e+01   9.23002381e-01  -1.69554018e+00 ...,  -1.33150358e-15\n",
      "    2.64889961e-16   1.59156062e-16]\n",
      " ..., \n",
      " [  9.43947329e+00  -1.22223246e+00  -7.13214232e-01 ...,   2.96824958e-15\n",
      "   -6.36053409e-16  -5.61183697e-16]\n",
      " [  9.52831702e+00  -1.20837797e+00  -7.82026720e-01 ...,   2.28622258e-15\n",
      "   -7.50420165e-16  -4.49850349e-16]\n",
      " [  9.60491522e+00  -1.22822499e+00  -8.15945578e-01 ...,   1.75538604e-15\n",
      "   -6.67652907e-16  -2.18117626e-16]]\n"
     ]
    }
   ],
   "source": [
    "transform_data_np = np.dot(xdf_demeaned, eig_vecs.real)\n",
    "print transform_data.real"
   ]
  },
  {
   "cell_type": "code",
   "execution_count": 77,
   "metadata": {
    "collapsed": false
   },
   "outputs": [
    {
     "name": "stdout",
     "output_type": "stream",
     "text": [
      "[[ -8.20950579e+00   7.04501083e-01  -2.02228634e+00 ...,  -7.84841492e-15\n",
      "   -1.67433671e-15   2.09259638e-14]\n",
      " [ -8.27394646e+00   7.23873485e-01  -2.09344774e+00 ...,  -1.18447200e-15\n",
      "   -2.26787363e-15   2.71243677e-14]\n",
      " [ -1.08954959e+01   9.23002381e-01  -1.69554018e+00 ...,   5.98175900e-15\n",
      "   -8.63985832e-15   2.42705061e-14]\n",
      " ..., \n",
      " [ -9.43947329e+00  -1.22223246e+00  -7.13214232e-01 ...,  -2.02027652e-16\n",
      "   -2.10835489e-16   1.57264033e-16]\n",
      " [ -9.52831702e+00  -1.20837797e+00  -7.82026720e-01 ...,  -8.08425221e-16\n",
      "    5.36063540e-16   1.40971067e-16]\n",
      " [ -9.60491522e+00  -1.22822499e+00  -8.15945578e-01 ...,  -2.06477281e-16\n",
      "   -3.62359158e-16   3.34127166e-16]]\n"
     ]
    }
   ],
   "source": [
    "# Comparing the dot product of the data with the eigenvectors of the covariance matrix and the fit_transform of Sklearn\n",
    "transform_data_sklearn = pca.fit_transform(xdf_demeaned)\n",
    "print transform_data_sklearn"
   ]
  },
  {
   "cell_type": "code",
   "execution_count": null,
   "metadata": {
    "collapsed": true
   },
   "outputs": [],
   "source": [
    ""
   ]
  }
 ],
 "metadata": {
  "anaconda-cloud": {},
  "kernelspec": {
   "display_name": "Python [default]",
   "language": "python",
   "name": "python2"
  },
  "language_info": {
   "codemirror_mode": {
    "name": "ipython",
    "version": 2.0
   },
   "file_extension": ".py",
   "mimetype": "text/x-python",
   "name": "python",
   "nbconvert_exporter": "python",
   "pygments_lexer": "ipython2",
   "version": "2.7.12"
  }
 },
 "nbformat": 4,
 "nbformat_minor": 0
}