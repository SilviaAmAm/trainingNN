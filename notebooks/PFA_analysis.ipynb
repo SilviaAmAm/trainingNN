{
 "cells": [
  {
   "cell_type": "code",
   "execution_count": 1,
   "metadata": {
    "collapsed": true
   },
   "outputs": [],
   "source": [
    "import ImportData\n",
    "X, y, Q = ImportData.loadPd_q(\"/Users/walfits/Repositories/trainingNN/dataSets/PBE_B3LYP/pbe_b3lyp_partQ_rel.csv\")"
   ]
  },
  {
   "cell_type": "code",
   "execution_count": 2,
   "metadata": {
    "collapsed": true
   },
   "outputs": [],
   "source": [
    "# Importing the data set and generating the Coulomb matrix\n",
    "import CoulombMatrix\n",
    "import PartialCharge\n",
    "# CM = CoulombMatrix.CoulombMatrix(matrixX=X)\n",
    "# Xc = CM.getCM()\n",
    "PCCM = PartialCharge.PartialCharges(X, y, Q)\n",
    "Xc = PCCM.get_pccm()"
   ]
  },
  {
   "cell_type": "code",
   "execution_count": 3,
   "metadata": {
    "collapsed": false
   },
   "outputs": [
    {
     "data": {
      "text/html": [
       "<div>\n",
       "<style>\n",
       "    .dataframe thead tr:only-child th {\n",
       "        text-align: right;\n",
       "    }\n",
       "\n",
       "    .dataframe thead th {\n",
       "        text-align: left;\n",
       "    }\n",
       "\n",
       "    .dataframe tbody tr th {\n",
       "        vertical-align: top;\n",
       "    }\n",
       "</style>\n",
       "<table border=\"1\" class=\"dataframe\">\n",
       "  <thead>\n",
       "    <tr style=\"text-align: right;\">\n",
       "      <th></th>\n",
       "      <th>0</th>\n",
       "      <th>1</th>\n",
       "      <th>2</th>\n",
       "      <th>3</th>\n",
       "      <th>4</th>\n",
       "      <th>5</th>\n",
       "      <th>6</th>\n",
       "      <th>7</th>\n",
       "      <th>8</th>\n",
       "      <th>9</th>\n",
       "      <th>...</th>\n",
       "      <th>39</th>\n",
       "      <th>40</th>\n",
       "      <th>41</th>\n",
       "      <th>42</th>\n",
       "      <th>43</th>\n",
       "      <th>44</th>\n",
       "      <th>45</th>\n",
       "      <th>46</th>\n",
       "      <th>47</th>\n",
       "      <th>48</th>\n",
       "    </tr>\n",
       "  </thead>\n",
       "  <tbody>\n",
       "    <tr>\n",
       "      <th>0</th>\n",
       "      <td>1.134641</td>\n",
       "      <td>0.411366</td>\n",
       "      <td>1.015461</td>\n",
       "      <td>0.497982</td>\n",
       "      <td>0.426106</td>\n",
       "      <td>-4.293000</td>\n",
       "      <td>-2.571147</td>\n",
       "      <td>0.411366</td>\n",
       "      <td>0.025852</td>\n",
       "      <td>0.068016</td>\n",
       "      <td>...</td>\n",
       "      <td>-0.657926</td>\n",
       "      <td>0.903939</td>\n",
       "      <td>1.308373</td>\n",
       "      <td>-2.571147</td>\n",
       "      <td>-0.187605</td>\n",
       "      <td>-0.862509</td>\n",
       "      <td>-0.115417</td>\n",
       "      <td>-0.434969</td>\n",
       "      <td>1.308373</td>\n",
       "      <td>-3.217944</td>\n",
       "    </tr>\n",
       "    <tr>\n",
       "      <th>1</th>\n",
       "      <td>0.979050</td>\n",
       "      <td>0.361474</td>\n",
       "      <td>1.086287</td>\n",
       "      <td>0.365335</td>\n",
       "      <td>0.328684</td>\n",
       "      <td>-4.326532</td>\n",
       "      <td>-2.625485</td>\n",
       "      <td>0.361474</td>\n",
       "      <td>0.029643</td>\n",
       "      <td>0.064336</td>\n",
       "      <td>...</td>\n",
       "      <td>-0.660451</td>\n",
       "      <td>0.912481</td>\n",
       "      <td>1.330396</td>\n",
       "      <td>-2.625485</td>\n",
       "      <td>-0.158260</td>\n",
       "      <td>-0.861058</td>\n",
       "      <td>-0.075271</td>\n",
       "      <td>-0.438984</td>\n",
       "      <td>1.330396</td>\n",
       "      <td>-3.225163</td>\n",
       "    </tr>\n",
       "    <tr>\n",
       "      <th>2</th>\n",
       "      <td>1.066895</td>\n",
       "      <td>0.397594</td>\n",
       "      <td>1.135181</td>\n",
       "      <td>0.318984</td>\n",
       "      <td>0.318162</td>\n",
       "      <td>-5.446554</td>\n",
       "      <td>-4.437856</td>\n",
       "      <td>0.397594</td>\n",
       "      <td>0.033947</td>\n",
       "      <td>0.083204</td>\n",
       "      <td>...</td>\n",
       "      <td>-0.736757</td>\n",
       "      <td>0.723305</td>\n",
       "      <td>0.668696</td>\n",
       "      <td>-4.437856</td>\n",
       "      <td>-0.388824</td>\n",
       "      <td>-0.976901</td>\n",
       "      <td>-0.706180</td>\n",
       "      <td>-0.529629</td>\n",
       "      <td>0.668696</td>\n",
       "      <td>-3.019126</td>\n",
       "    </tr>\n",
       "    <tr>\n",
       "      <th>3</th>\n",
       "      <td>-0.047132</td>\n",
       "      <td>0.127028</td>\n",
       "      <td>0.844038</td>\n",
       "      <td>0.269993</td>\n",
       "      <td>-3.383731</td>\n",
       "      <td>-5.188154</td>\n",
       "      <td>-4.664227</td>\n",
       "      <td>0.127028</td>\n",
       "      <td>-0.001618</td>\n",
       "      <td>0.020747</td>\n",
       "      <td>...</td>\n",
       "      <td>3.096462</td>\n",
       "      <td>-0.888992</td>\n",
       "      <td>1.617180</td>\n",
       "      <td>-4.664227</td>\n",
       "      <td>-0.561519</td>\n",
       "      <td>-0.800356</td>\n",
       "      <td>-0.755056</td>\n",
       "      <td>1.104039</td>\n",
       "      <td>1.617180</td>\n",
       "      <td>1.237417</td>\n",
       "    </tr>\n",
       "    <tr>\n",
       "      <th>4</th>\n",
       "      <td>-0.007953</td>\n",
       "      <td>0.133228</td>\n",
       "      <td>0.766455</td>\n",
       "      <td>0.352967</td>\n",
       "      <td>-3.384837</td>\n",
       "      <td>-5.217230</td>\n",
       "      <td>-4.671678</td>\n",
       "      <td>0.133228</td>\n",
       "      <td>-0.004924</td>\n",
       "      <td>0.008019</td>\n",
       "      <td>...</td>\n",
       "      <td>2.983941</td>\n",
       "      <td>-0.910984</td>\n",
       "      <td>1.805061</td>\n",
       "      <td>-4.671678</td>\n",
       "      <td>-0.578261</td>\n",
       "      <td>-0.816070</td>\n",
       "      <td>-0.752945</td>\n",
       "      <td>1.080359</td>\n",
       "      <td>1.805061</td>\n",
       "      <td>1.283205</td>\n",
       "    </tr>\n",
       "  </tbody>\n",
       "</table>\n",
       "<p>5 rows × 49 columns</p>\n",
       "</div>"
      ],
      "text/plain": [
       "         0         1         2         3         4         5         6   \\\n",
       "0  1.134641  0.411366  1.015461  0.497982  0.426106 -4.293000 -2.571147   \n",
       "1  0.979050  0.361474  1.086287  0.365335  0.328684 -4.326532 -2.625485   \n",
       "2  1.066895  0.397594  1.135181  0.318984  0.318162 -5.446554 -4.437856   \n",
       "3 -0.047132  0.127028  0.844038  0.269993 -3.383731 -5.188154 -4.664227   \n",
       "4 -0.007953  0.133228  0.766455  0.352967 -3.384837 -5.217230 -4.671678   \n",
       "\n",
       "         7         8         9     ...           39        40        41  \\\n",
       "0  0.411366  0.025852  0.068016    ...    -0.657926  0.903939  1.308373   \n",
       "1  0.361474  0.029643  0.064336    ...    -0.660451  0.912481  1.330396   \n",
       "2  0.397594  0.033947  0.083204    ...    -0.736757  0.723305  0.668696   \n",
       "3  0.127028 -0.001618  0.020747    ...     3.096462 -0.888992  1.617180   \n",
       "4  0.133228 -0.004924  0.008019    ...     2.983941 -0.910984  1.805061   \n",
       "\n",
       "         42        43        44        45        46        47        48  \n",
       "0 -2.571147 -0.187605 -0.862509 -0.115417 -0.434969  1.308373 -3.217944  \n",
       "1 -2.625485 -0.158260 -0.861058 -0.075271 -0.438984  1.330396 -3.225163  \n",
       "2 -4.437856 -0.388824 -0.976901 -0.706180 -0.529629  0.668696 -3.019126  \n",
       "3 -4.664227 -0.561519 -0.800356 -0.755056  1.104039  1.617180  1.237417  \n",
       "4 -4.671678 -0.578261 -0.816070 -0.752945  1.080359  1.805061  1.283205  \n",
       "\n",
       "[5 rows x 49 columns]"
      ]
     },
     "execution_count": 3,
     "metadata": {},
     "output_type": "execute_result"
    }
   ],
   "source": [
    "# Demeaning the data\n",
    "import pandas as pd\n",
    "xdf = pd.DataFrame(Xc)\n",
    "xdf_demeaned = xdf - xdf.mean()\n",
    "xdf_demeaned.head()"
   ]
  },
  {
   "cell_type": "code",
   "execution_count": 4,
   "metadata": {
    "collapsed": true
   },
   "outputs": [],
   "source": [
    "# Choosing the number of PCA components\n",
    "n_components = 16"
   ]
  },
  {
   "cell_type": "code",
   "execution_count": 5,
   "metadata": {
    "collapsed": false
   },
   "outputs": [
    {
     "name": "stdout",
     "output_type": "stream",
     "text": [
      "(49, 16)\n"
     ]
    }
   ],
   "source": [
    "# Obtaining the pca components (eigenvectors of the covariance matrix)\n",
    "from sklearn.decomposition import PCA\n",
    "pca = PCA(n_components=n_components)\n",
    "pca.fit(xdf_demeaned)\n",
    "Aq = pca.components_.T  # pca.components_ are the eigenvectors of the covariance matrix. The eigVecs are on the ROWS.\n",
    "print Aq.shape"
   ]
  },
  {
   "cell_type": "code",
   "execution_count": 6,
   "metadata": {
    "collapsed": false
   },
   "outputs": [
    {
     "name": "stdout",
     "output_type": "stream",
     "text": [
      "(17751, 16)\n"
     ]
    }
   ],
   "source": [
    "# Projecting the data on the reduced dimension basis\n",
    "xdf_pca = pca.fit_transform(xdf_demeaned)\n",
    "print xdf_pca.shape"
   ]
  },
  {
   "cell_type": "markdown",
   "metadata": {},
   "source": [
    "## Clustering on eigenvectors\n",
    "\"Aq\" is the matrix that contains n_component eigenvectors (each of dimensionality 49) of the covariance matrix along the columns. Now, each *row* of this matrix is considered as a point in n_component dimensional space. A k-means algorithm is used to cluster the points in this space. The number of centres has to be chosen > n_component. In the paper they reccomend 1-5 more, so here I pick 15 clusters. Then, they select the point in each cluster that is closest to the centre of the cluster. The position of this chosen point within the matrix Aq corresponds to the index of the feature to keep."
   ]
  },
  {
   "cell_type": "code",
   "execution_count": 7,
   "metadata": {
    "collapsed": false
   },
   "outputs": [
    {
     "data": {
      "image/png": "[encoded data removed]",
      "text/plain": [
       "<matplotlib.figure.Figure at 0x1189ad110>"
      ]
     },
     "metadata": {},
     "output_type": "display_data"
    }
   ],
   "source": [
    "# Clustering - First step is to choose the number of cluster through the elbow method\n",
    "from sklearn.cluster import KMeans\n",
    "import matplotlib.pyplot as plt\n",
    "%matplotlib inline\n",
    "from sklearn.metrics.pairwise import euclidean_distances\n",
    "import seaborn as sns\n",
    "\n",
    "tot_sum_of_sq = []\n",
    "\n",
    "for j in range(n_components, n_components+5):\n",
    "    kmeans = KMeans(n_clusters=j).fit(Aq)\n",
    "    clusters_idx = kmeans.predict(Aq) # indices of which cluster each point belongs to\n",
    "    centres = kmeans.cluster_centers_ \n",
    "\n",
    "    sum_of_squares = 0\n",
    "\n",
    "    for i, item in enumerate(clusters_idx):\n",
    "        dist = euclidean_distances(Aq[i].reshape(-1, 1), centres[item].reshape(-1, 1))[0][0]\n",
    "        sum_of_squares = sum_of_squares + dist**2\n",
    "\n",
    "    tot_sum_of_sq.append(sum_of_squares)\n",
    "\n",
    "k_df = pd.DataFrame()\n",
    "k_df['n of clusters'] = range(n_components, n_components+5)\n",
    "k_df['sum of squares'] = tot_sum_of_sq\n",
    "fig, ax = plt.subplots(figsize=(10, 7))\n",
    "sns.pointplot(x=\"n of clusters\", y=\"sum of squares\", data=k_df)\n",
    "ax.set_ylabel('Sum of distance squares')\n",
    "ax.set_xlabel('Number of clusters')\n",
    "# plt.savefig(\"Elbow_cluster.png\", dpi=500)  # save as png\n",
    "plt.show()"
   ]
  },
  {
   "cell_type": "code",
   "execution_count": 8,
   "metadata": {
    "collapsed": true
   },
   "outputs": [],
   "source": [
    "# Choosing the number of clusters from the analysis above\n",
    "n_clusters=18\n",
    "kmeans = KMeans(n_clusters=n_clusters).fit(Aq)\n",
    "clusters_idx = kmeans.predict(Aq) # indices of which cluster each point belongs to\n",
    "centres = kmeans.cluster_centers_"
   ]
  },
  {
   "cell_type": "code",
   "execution_count": 9,
   "metadata": {
    "collapsed": false
   },
   "outputs": [],
   "source": [
    "# Obtaining the minimum distance between the points and the centre of the cluster, for each cluster\n",
    "from sklearn.metrics.pairwise import euclidean_distances\n",
    "\n",
    "# Dictionary where the cluster number is the key and the value is a list with the index of the point in Aq with \n",
    "# shortest distance to the centre and the actual distance\n",
    "idx_short = {k:None for k in range(n_clusters)}\n",
    "\n",
    "for i, item in enumerate(clusters_idx):\n",
    "        dist = euclidean_distances(Aq[i].reshape(-1, 1), centres[item].reshape(-1, 1))[0][0]\n",
    "        \n",
    "        if (idx_short[item] == None):\n",
    "            idx_short[item] = [i, dist]\n",
    "        elif(dist < idx_short[item][1]):\n",
    "            idx_short[item] = [i, dist]"
   ]
  },
  {
   "cell_type": "code",
   "execution_count": 10,
   "metadata": {
    "collapsed": false
   },
   "outputs": [
    {
     "name": "stdout",
     "output_type": "stream",
     "text": [
      "[11, 0, 40, 41, 12, 20, 1, 6, 48, 5, 19, 2, 3, 13, 4, 33, 27, 26]\n"
     ]
    }
   ],
   "source": [
    "# Making a list of the features to keep\n",
    "idx_feat = []\n",
    "for item in idx_short:\n",
    "    idx_feat.append(idx_short[item][0])\n",
    "print idx_feat"
   ]
  },
  {
   "cell_type": "code",
   "execution_count": 11,
   "metadata": {
    "collapsed": false
   },
   "outputs": [
    {
     "data": {
      "image/png": "[encoded data removed]",
      "text/plain": [
       "<matplotlib.figure.Figure at 0x11672c890>"
      ]
     },
     "metadata": {},
     "output_type": "display_data"
    }
   ],
   "source": [
    "# The idx_feat contains the list of indices of features to keep in the Coulomb matrix\n",
    "# Visualising them\n",
    "import numpy as np\n",
    "cm = np.zeros((49))+0.001\n",
    "for item in idx_feat:\n",
    "    cm[item] = 1 \n",
    "cm_sq = cm.reshape((7,7))\n",
    "df = pd.DataFrame(cm_sq)\n",
    "sns.heatmap(df)\n",
    "plt.show()"
   ]
  },
  {
   "cell_type": "code",
   "execution_count": 12,
   "metadata": {
    "collapsed": false
   },
   "outputs": [
    {
     "data": {
      "image/png": "[encoded data removed]",
      "text/plain": [
       "<matplotlib.figure.Figure at 0x10bd254d0>"
      ]
     },
     "metadata": {},
     "output_type": "display_data"
    }
   ],
   "source": [
    "# Making the matrix diagonal (for the purpose of visualising it as a networkx diagram)\n",
    "for i in range(7):\n",
    "    for j in range(i,7):\n",
    "        if (cm_sq[i][j] >= cm_sq[j][i]):\n",
    "            cm_sq[j][i] = cm_sq[i][j]\n",
    "        else:\n",
    "            cm_sq[i][j] = cm_sq[j][i]\n",
    "df_sq = pd.DataFrame(cm_sq)\n",
    "sns.heatmap(df_sq)\n",
    "plt.show()"
   ]
  },
  {
   "cell_type": "code",
   "execution_count": 14,
   "metadata": {
    "collapsed": false
   },
   "outputs": [
    {
     "name": "stdout",
     "output_type": "stream",
     "text": [
      "\n"
     ]
    },
    {
     "data": {
      "image/png": "[encoded data removed]",
      "text/plain": [
       "<matplotlib.figure.Figure at 0x11e03e410>"
      ]
     },
     "metadata": {},
     "output_type": "display_data"
    }
   ],
   "source": [
    "import networkx as nx\n",
    "graph2 = nx.from_numpy_matrix(cm_sq, parallel_edges=False)\n",
    "print graph2\n",
    "pos = {}\n",
    "for i in range(7):\n",
    "    x_point = 0.6*np.cos((i+1)*2*np.pi/7)\n",
    "    y_point = 0.6*np.sin((i+1)*2*np.pi/7)\n",
    "    pos[i] = np.array([x_point, y_point])\n",
    "labels = {}\n",
    "labels[0] = 'H'\n",
    "labels[1] = 'H'\n",
    "labels[2] = 'H'\n",
    "labels[3] = 'H'\n",
    "labels[4] = 'C'\n",
    "labels[5] = 'C'\n",
    "labels[6] = 'N'\n",
    "node_size = np.zeros(7)\n",
    "for i in range(7):\n",
    "    node_size[i] =  abs(graph2[i][i]['weight'])*500\n",
    "nx.draw_networkx_nodes(graph2, pos, node_size=node_size)\n",
    "nx.draw_networkx_labels(graph2, pos, labels=labels, font_size=20, font_family='sans-serif', font_color='blue')\n",
    "# edges\n",
    "edgewidth = [d['weight'] for (u, v, d) in graph2.edges(data=True)]\n",
    "nx.draw_networkx_edges(graph2, pos, width=edgewidth)\n",
    "plt.axis('off')\n",
    "# plt.savefig(\"PFAfeat.png\", dpi=500)  # save as png\n",
    "plt.show()"
   ]
  },
  {
   "cell_type": "code",
   "execution_count": null,
   "metadata": {
    "collapsed": true
   },
   "outputs": [],
   "source": [
    ""
   ]
  }
 ],
 "metadata": {
  "anaconda-cloud": {},
  "kernelspec": {
   "display_name": "Python [default]",
   "language": "python",
   "name": "python2"
  },
  "language_info": {
   "codemirror_mode": {
    "name": "ipython",
    "version": 2.0
   },
   "file_extension": ".py",
   "mimetype": "text/x-python",
   "name": "python",
   "nbconvert_exporter": "python",
   "pygments_lexer": "ipython2",
   "version": "2.7.12"
  }
 },
 "nbformat": 4,
 "nbformat_minor": 0
}