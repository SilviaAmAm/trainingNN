{
 "cells": [
  {
   "cell_type": "code",
   "execution_count": 1,
   "metadata": {
    "collapsed": true
   },
   "outputs": [],
   "source": [
    "import sys\n",
    "sys.path.insert(0,'/Users/walfits/Repositories/YAMLP/SciFlow')\n",
    "import CoulombMatrix as cm\n",
    "import PartialCharge as pc\n",
    "import ImportData as imp"
   ]
  },
  {
   "cell_type": "code",
   "execution_count": 2,
   "metadata": {
    "collapsed": false
   },
   "outputs": [],
   "source": [
    "X, y, Q = imp.loadPd_q(\"/Users/walfits/Repositories/trainingNN/dataSets/PBE_B3LYP/pbe_b3lyp_partQ_rel.csv\")"
   ]
  },
  {
   "cell_type": "code",
   "execution_count": 3,
   "metadata": {
    "collapsed": false
   },
   "outputs": [
    {
     "name": "stdout",
     "output_type": "stream",
     "text": [
      "Generated the partial charge coulomb matrix (partially randomised).\n"
     ]
    }
   ],
   "source": [
    "PCCM = pc.PartialCharges(X, y, Q)\n",
    "descriptor, y = PCCM.generatePCCM(numRep=5)"
   ]
  },
  {
   "cell_type": "code",
   "execution_count": 4,
   "metadata": {
    "collapsed": false
   },
   "outputs": [
    {
     "data": {
      "text/plain": [
       "(88755, 28)"
      ]
     },
     "execution_count": 4,
     "metadata": {},
     "output_type": "execute_result"
    }
   ],
   "source": [
    "descriptor.shape"
   ]
  },
  {
   "cell_type": "code",
   "execution_count": 5,
   "metadata": {
    "collapsed": false
   },
   "outputs": [
    {
     "name": "stdout",
     "output_type": "stream",
     "text": [
      "[  0.74066678   0.41791193   0.41746334   0.41793639   5.18959833\n",
      "   1.23216541   1.41871522   0.74294056   0.41813204   0.41858768\n",
      "   5.19751518   1.12575382   1.18505129   0.7414071    0.41815087\n",
      "   5.19201506   0.97039868   1.08555554   0.74302676   5.1976879\n",
      "   1.38521863   1.50730761  42.95989718   8.99198804   9.9055713\n",
      "  38.30582529  37.3701958   46.38781394]\n"
     ]
    }
   ],
   "source": [
    "print descriptor[0]"
   ]
  },
  {
   "cell_type": "code",
   "execution_count": 6,
   "metadata": {
    "collapsed": false
   },
   "outputs": [
    {
     "data": {
      "text/plain": [
       "(7,)"
      ]
     },
     "execution_count": 6,
     "metadata": {},
     "output_type": "execute_result"
    }
   ],
   "source": [
    "import numpy as np\n",
    "nc = np.zeros(7)\n",
    "nc.shape"
   ]
  },
  {
   "cell_type": "code",
   "execution_count": 7,
   "metadata": {
    "collapsed": false
   },
   "outputs": [
    {
     "name": "stdout",
     "output_type": "stream",
     "text": [
      "[ 1.  1.  1.  1.  6.  6.  7.]\n"
     ]
    }
   ],
   "source": [
    "nc[0:4] = 1.0\n",
    "nc[4:6] = 6.0\n",
    "nc[6] = 7.0\n",
    "print nc"
   ]
  },
  {
   "cell_type": "code",
   "execution_count": 8,
   "metadata": {
    "collapsed": false
   },
   "outputs": [
    {
     "name": "stdout",
     "output_type": "stream",
     "text": [
      "(88755, 7)\n",
      "[[ 1.  1.  1.  1.  6.  6.  7.]\n",
      " [ 1.  1.  1.  1.  6.  6.  7.]\n",
      " [ 1.  1.  1.  1.  6.  6.  7.]\n",
      " [ 1.  1.  1.  1.  6.  6.  7.]\n",
      " [ 1.  1.  1.  1.  6.  6.  7.]]\n"
     ]
    }
   ],
   "source": [
    "nc_big = np.tile(nc, (descriptor.shape[0],1))\n",
    "print nc_big.shape\n",
    "print nc_big[0:5]"
   ]
  },
  {
   "cell_type": "code",
   "execution_count": 9,
   "metadata": {
    "collapsed": false
   },
   "outputs": [
    {
     "name": "stdout",
     "output_type": "stream",
     "text": [
      "(88755, 28) (88755, 7) (88755, 1)\n",
      "(88755, 36)\n"
     ]
    }
   ],
   "source": [
    "print descriptor.shape, nc_big.shape, np.reshape(y, (y.shape[0],1)).shape\n",
    "data = np.concatenate((descriptor, nc_big, np.reshape(y, (y.shape[0],1))), axis = 1)\n",
    "print data.shape"
   ]
  },
  {
   "cell_type": "code",
   "execution_count": 11,
   "metadata": {
    "collapsed": true
   },
   "outputs": [],
   "source": [
    "import numpy as np\n",
    "np.savetxt('hyb3.csv', data, delimiter=',', newline='\\n')"
   ]
  },
  {
   "cell_type": "code",
   "execution_count": null,
   "metadata": {
    "collapsed": true
   },
   "outputs": [],
   "source": [
    ""
   ]
  }
 ],
 "metadata": {
  "anaconda-cloud": {},
  "kernelspec": {
   "display_name": "Python [default]",
   "language": "python",
   "name": "python2"
  },
  "language_info": {
   "codemirror_mode": {
    "name": "ipython",
    "version": 2.0
   },
   "file_extension": ".py",
   "mimetype": "text/x-python",
   "name": "python",
   "nbconvert_exporter": "python",
   "pygments_lexer": "ipython2",
   "version": "2.7.12"
  }
 },
 "nbformat": 4,
 "nbformat_minor": 0
}