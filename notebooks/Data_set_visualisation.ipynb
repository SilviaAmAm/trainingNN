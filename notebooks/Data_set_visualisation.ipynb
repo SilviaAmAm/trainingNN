{
 "cells": [
  {
   "cell_type": "code",
   "execution_count": 1,
   "metadata": {
    "collapsed": true
   },
   "outputs": [],
   "source": [
    "import sys\n",
    "sys.path.insert(0,'/Users/walfits/Repositories/YAMLP/SciFlow')\n",
    "import InvDist as invd\n",
    "import ImportData as imp\n",
    "import joblib"
   ]
  },
  {
   "cell_type": "code",
   "execution_count": 2,
   "metadata": {
    "collapsed": true
   },
   "outputs": [],
   "source": [
    "X = imp.loadX(\"/Users/walfits/Repositories/trainingNN/dataSets/XYQ/X_cc.csv\")\n",
    "Y = imp.loadY(\"/Users/walfits/Repositories/trainingNN/dataSets/XYQ/Y_cc.csv\")"
   ]
  },
  {
   "cell_type": "code",
   "execution_count": 3,
   "metadata": {
    "collapsed": false
   },
   "outputs": [
    {
     "name": "stdout",
     "output_type": "stream",
     "text": [
      "Initialised the Coulomb matrix. \n",
      "\n",
      "(20698, 21)\n"
     ]
    }
   ],
   "source": [
    "X_id = invd.InvDist(X)\n",
    "X_desc = X_id.trimmed_InvDis()\n",
    "print(X_desc.shape)"
   ]
  },
  {
   "cell_type": "code",
   "execution_count": 4,
   "metadata": {
    "collapsed": false
   },
   "outputs": [
    {
     "name": "stdout",
     "output_type": "stream",
     "text": [
      "[[-132.4365067 ]\n",
      " [-132.4122633 ]\n",
      " [-132.41969784]\n",
      " ..., \n",
      " [-132.47218833]\n",
      " [-132.41437083]\n",
      " [-132.46190199]]\n"
     ]
    }
   ],
   "source": [
    "print(Y)"
   ]
  },
  {
   "cell_type": "code",
   "execution_count": 4,
   "metadata": {
    "collapsed": false
   },
   "outputs": [],
   "source": [
    "# import numpy as np\n",
    "# x_mean = np.mean(X_desc, axis=0)\n",
    "# x_std = np.std(X_desc, axis=0)"
   ]
  },
  {
   "cell_type": "code",
   "execution_count": 5,
   "metadata": {
    "collapsed": false
   },
   "outputs": [],
   "source": [
    "# x_std_0 = []\n",
    "# for item in x_std:\n",
    "#     if item < 1e-10:\n",
    "#         x_std_0.append(1.0)\n",
    "#     else:\n",
    "#         x_std_0.append(item)\n",
    "# x_std_0 = np.asarray(x_std_0)"
   ]
  },
  {
   "cell_type": "code",
   "execution_count": 6,
   "metadata": {
    "collapsed": false
   },
   "outputs": [],
   "source": [
    "# print(x_std_0)"
   ]
  },
  {
   "cell_type": "code",
   "execution_count": 7,
   "metadata": {
    "collapsed": false
   },
   "outputs": [],
   "source": [
    "# print(X_desc[0])"
   ]
  },
  {
   "cell_type": "code",
   "execution_count": 8,
   "metadata": {
    "collapsed": true
   },
   "outputs": [],
   "source": [
    "# X_norm = (X_desc - x_mean)/x_std_0"
   ]
  },
  {
   "cell_type": "code",
   "execution_count": 9,
   "metadata": {
    "collapsed": false
   },
   "outputs": [],
   "source": [
    "# print X_norm[0]"
   ]
  },
  {
   "cell_type": "code",
   "execution_count": 5,
   "metadata": {
    "collapsed": false
   },
   "outputs": [
    {
     "name": "stdout",
     "output_type": "stream",
     "text": [
      "[[-347712.04834478]\n",
      " [-347648.3972814 ]\n",
      " [-347667.91667884]\n",
      " ..., \n",
      " [-347805.73045512]\n",
      " [-347653.93060471]\n",
      " [-347778.72366269]]\n"
     ]
    }
   ],
   "source": [
    "Y_kjmol = Y * 2625.50\n",
    "print(Y_kjmol)"
   ]
  },
  {
   "cell_type": "code",
   "execution_count": 6,
   "metadata": {
    "collapsed": false
   },
   "outputs": [
    {
     "name": "stdout",
     "output_type": "stream",
     "text": [
      "-347703.585879\n"
     ]
    }
   ],
   "source": [
    "import numpy as np\n",
    "y_mean = np.mean(Y_kjmol)\n",
    "print(y_mean)"
   ]
  },
  {
   "cell_type": "code",
   "execution_count": 7,
   "metadata": {
    "collapsed": false
   },
   "outputs": [
    {
     "name": "stdout",
     "output_type": "stream",
     "text": [
      "[[  -8.46246624]\n",
      " [  55.18859714]\n",
      " [  35.6691997 ]\n",
      " ..., \n",
      " [-102.14457658]\n",
      " [  49.65527383]\n",
      " [ -75.13778415]]\n"
     ]
    }
   ],
   "source": [
    "Y_demean = Y_kjmol - y_mean\n",
    "print(Y_demean)"
   ]
  },
  {
   "cell_type": "code",
   "execution_count": 13,
   "metadata": {
    "collapsed": false
   },
   "outputs": [
    {
     "data": {
      "text/plain": [
       "['cc_kjmol_invdist.bz']"
      ]
     },
     "execution_count": 13,
     "metadata": {},
     "output_type": "execute_result"
    }
   ],
   "source": [
    "new_dataset = {\"X\":X_desc, \"y\":Y_demean}\n",
    "joblib.dump(new_dataset, filename=\"cc_kjmol_invdist.bz\")"
   ]
  },
  {
   "cell_type": "code",
   "execution_count": 9,
   "metadata": {
    "collapsed": false
   },
   "outputs": [
    {
     "data": {
      "text/plain": [
       "['cc_kjmol_invdist_cartesian.bz']"
      ]
     },
     "execution_count": 9,
     "metadata": {},
     "output_type": "execute_result"
    }
   ],
   "source": [
    "new_dataset = {\"X_desc\":X_desc, \"y\":Y_demean, \"X_cartesian\":X}\n",
    "joblib.dump(new_dataset, filename=\"cc_kjmol_invdist_cartesian.bz\")"
   ]
  },
  {
   "cell_type": "code",
   "execution_count": null,
   "metadata": {
    "collapsed": true
   },
   "outputs": [],
   "source": []
  }
 ],
 "metadata": {
  "anaconda-cloud": {},
  "kernelspec": {
   "display_name": "Python [conda root]",
   "language": "python",
   "name": "conda-root-py"
  },
  "language_info": {
   "codemirror_mode": {
    "name": "ipython",
    "version": 2
   },
   "file_extension": ".py",
   "mimetype": "text/x-python",
   "name": "python",
   "nbconvert_exporter": "python",
   "pygments_lexer": "ipython2",
   "version": "2.7.12"
  }
 },
 "nbformat": 4,
 "nbformat_minor": 1
}
